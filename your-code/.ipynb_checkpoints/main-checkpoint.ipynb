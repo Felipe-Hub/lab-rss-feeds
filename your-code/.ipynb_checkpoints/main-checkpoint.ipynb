{
 "cells": [
  {
   "cell_type": "markdown",
   "metadata": {},
   "source": [
    "# Working with RSS Feeds Lab\n",
    "\n",
    "Complete the following set of exercises to solidify your knowledge of parsing RSS feeds and extracting information from them."
   ]
  },
  {
   "cell_type": "code",
   "execution_count": 1,
   "metadata": {},
   "outputs": [],
   "source": [
    "import feedparser"
   ]
  },
  {
   "cell_type": "markdown",
   "metadata": {},
   "source": [
    "### 1. Use feedparser to parse the following RSS feed URL."
   ]
  },
  {
   "cell_type": "code",
   "execution_count": 2,
   "metadata": {},
   "outputs": [],
   "source": [
    "url = 'http://feeds.feedburner.com/oreilly/radar/atom'"
   ]
  },
  {
   "cell_type": "code",
   "execution_count": 3,
   "metadata": {},
   "outputs": [],
   "source": [
    "feed = feedparser.parse(url)"
   ]
  },
  {
   "cell_type": "markdown",
   "metadata": {},
   "source": [
    "### 2. Obtain a list of components (keys) that are available for this feed."
   ]
  },
  {
   "cell_type": "code",
   "execution_count": 6,
   "metadata": {},
   "outputs": [
    {
     "data": {
      "text/plain": [
       "dict_keys(['feed', 'entries', 'bozo', 'headers', 'etag', 'updated', 'updated_parsed', 'href', 'status', 'encoding', 'version', 'namespaces'])"
      ]
     },
     "execution_count": 6,
     "metadata": {},
     "output_type": "execute_result"
    }
   ],
   "source": [
    "feed.keys()"
   ]
  },
  {
   "cell_type": "markdown",
   "metadata": {},
   "source": [
    "### 3. Obtain a list of components (keys) that are available for the *feed* component of this RSS feed."
   ]
  },
  {
   "cell_type": "code",
   "execution_count": 11,
   "metadata": {},
   "outputs": [
    {
     "data": {
      "text/plain": [
       "dict_keys(['title', 'title_detail', 'links', 'link', 'subtitle', 'subtitle_detail', 'updated', 'updated_parsed', 'language', 'sy_updateperiod', 'sy_updatefrequency', 'generator_detail', 'generator', 'feedburner_info', 'geo_lat', 'geo_long', 'feedburner_emailserviceid', 'feedburner_feedburnerhostname'])"
      ]
     },
     "execution_count": 11,
     "metadata": {},
     "output_type": "execute_result"
    }
   ],
   "source": [
    "feed.feed.keys()"
   ]
  },
  {
   "cell_type": "markdown",
   "metadata": {},
   "source": [
    "### 4. Extract and print the feed title, subtitle, author, and link."
   ]
  },
  {
   "cell_type": "code",
   "execution_count": null,
   "metadata": {},
   "outputs": [],
   "source": [
    "print('Title = ', feed.feed.title)\n",
    "print('Subtitle = ', feed.feed.subtitle)\n",
    "print('Author = ', feed.feed.feedburner_feedburnerhostname)\n",
    "print('Link = ', feed.feed.link)"
   ]
  },
  {
   "cell_type": "markdown",
   "metadata": {},
   "source": [
    "### 5. Count the number of entries that are contained in this RSS feed."
   ]
  },
  {
   "cell_type": "code",
   "execution_count": 14,
   "metadata": {},
   "outputs": [
    {
     "data": {
      "text/plain": [
       "18"
      ]
     },
     "execution_count": 14,
     "metadata": {},
     "output_type": "execute_result"
    }
   ],
   "source": [
    "len(feed.entries)"
   ]
  },
  {
   "cell_type": "markdown",
   "metadata": {},
   "source": [
    "### 6. Obtain a list of components (keys) available for an entry.\n",
    "\n",
    "*Hint: Remember to index first before requesting the keys*"
   ]
  },
  {
   "cell_type": "code",
   "execution_count": 22,
   "metadata": {},
   "outputs": [
    {
     "data": {
      "text/plain": [
       "19"
      ]
     },
     "execution_count": 22,
     "metadata": {},
     "output_type": "execute_result"
    }
   ],
   "source": [
    "len(feed.entries[0].keys())"
   ]
  },
  {
   "cell_type": "markdown",
   "metadata": {},
   "source": [
    "### 7. Extract a list of entry titles."
   ]
  },
  {
   "cell_type": "code",
   "execution_count": 27,
   "metadata": {},
   "outputs": [
    {
     "data": {
      "text/plain": [
       "['It’s important to cultivate your organization’s collective genius',\n",
       " 'Four short links: 5 November 2019',\n",
       " 'Four short links: 4 November 2019',\n",
       " 'Quantum computing’s potential is still far off, but quantum supremacy shows we’re on the right track',\n",
       " 'Four short links: 1 November 2019',\n",
       " 'Highlights from TensorFlow World in Santa Clara, California 2019',\n",
       " 'Sticker recommendations and AI-driven innovations on the Hike messaging platform',\n",
       " '“Human error”: How can we help people build models that do what they expect',\n",
       " 'Personalization of Spotify Home and TensorFlow',\n",
       " 'TensorFlow.js: Bringing machine learning to JavaScript',\n",
       " 'TFX: An end-to-end ML platform for everyone',\n",
       " 'MLIR: Accelerating AI',\n",
       " 'TensorFlow Hub: The platform to share and discover pretrained models for TensorFlow',\n",
       " 'TensorFlow Lite: ML for mobile and IoT devices',\n",
       " 'Four short links: 31 October 2019',\n",
       " 'Accelerating ML at Twitter',\n",
       " 'The latest from TensorFlow',\n",
       " 'TensorFlow World 2019 opening keynote']"
      ]
     },
     "execution_count": 27,
     "metadata": {},
     "output_type": "execute_result"
    }
   ],
   "source": [
    "titles = [dicts['title'] for dicts in feed.entries]\n",
    "titles"
   ]
  },
  {
   "cell_type": "markdown",
   "metadata": {},
   "source": [
    "### 8. Calculate the percentage of \"Four short links\" entry titles."
   ]
  },
  {
   "cell_type": "code",
   "execution_count": 31,
   "metadata": {},
   "outputs": [
    {
     "data": {
      "text/plain": [
       "21.05"
      ]
     },
     "execution_count": 31,
     "metadata": {},
     "output_type": "execute_result"
    }
   ],
   "source": [
    "n = len([t for t in titles if \"Four short links\" in t])\n",
    "\n",
    "round(n/len(feed.entries[0].keys()) * 100, 2)"
   ]
  },
  {
   "cell_type": "markdown",
   "metadata": {},
   "source": [
    "### 9. Create a Pandas data frame from the feed's entries."
   ]
  },
  {
   "cell_type": "code",
   "execution_count": 33,
   "metadata": {},
   "outputs": [],
   "source": [
    "import pandas as pd"
   ]
  },
  {
   "cell_type": "code",
   "execution_count": 105,
   "metadata": {},
   "outputs": [
    {
     "data": {
      "text/html": [
       "<div>\n",
       "<style scoped>\n",
       "    .dataframe tbody tr th:only-of-type {\n",
       "        vertical-align: middle;\n",
       "    }\n",
       "\n",
       "    .dataframe tbody tr th {\n",
       "        vertical-align: top;\n",
       "    }\n",
       "\n",
       "    .dataframe thead th {\n",
       "        text-align: right;\n",
       "    }\n",
       "</style>\n",
       "<table border=\"1\" class=\"dataframe\">\n",
       "  <thead>\n",
       "    <tr style=\"text-align: right;\">\n",
       "      <th></th>\n",
       "      <th>title</th>\n",
       "      <th>title_detail</th>\n",
       "      <th>links</th>\n",
       "      <th>link</th>\n",
       "      <th>comments</th>\n",
       "      <th>published</th>\n",
       "      <th>published_parsed</th>\n",
       "      <th>authors</th>\n",
       "      <th>author</th>\n",
       "      <th>author_detail</th>\n",
       "      <th>tags</th>\n",
       "      <th>id</th>\n",
       "      <th>guidislink</th>\n",
       "      <th>summary</th>\n",
       "      <th>summary_detail</th>\n",
       "      <th>content</th>\n",
       "      <th>wfw_commentrss</th>\n",
       "      <th>slash_comments</th>\n",
       "      <th>feedburner_origlink</th>\n",
       "    </tr>\n",
       "  </thead>\n",
       "  <tbody>\n",
       "    <tr>\n",
       "      <th>0</th>\n",
       "      <td>It’s important to cultivate your organization’...</td>\n",
       "      <td>{'type': 'text/plain', 'language': None, 'base...</td>\n",
       "      <td>[{'rel': 'alternate', 'type': 'text/html', 'hr...</td>\n",
       "      <td>http://feedproxy.google.com/~r/oreilly/radar/a...</td>\n",
       "      <td>https://www.oreilly.com/radar/its-important-to...</td>\n",
       "      <td>Tue, 05 Nov 2019 05:05:36 +0000</td>\n",
       "      <td>(2019, 11, 5, 5, 5, 36, 1, 309, 0)</td>\n",
       "      <td>[{'name': 'Jenn Webb'}]</td>\n",
       "      <td>Jenn Webb</td>\n",
       "      <td>{'name': 'Jenn Webb'}</td>\n",
       "      <td>[{'term': 'Future of the Firm', 'scheme': None...</td>\n",
       "      <td>https://www.oreilly.com/radar/?p=10231</td>\n",
       "      <td>False</td>\n",
       "      <td>In this interview from O&amp;#8217;Reilly Foo Camp...</td>\n",
       "      <td>{'type': 'text/html', 'language': None, 'base'...</td>\n",
       "      <td>[{'type': 'text/html', 'language': None, 'base...</td>\n",
       "      <td>https://www.oreilly.com/radar/its-important-to...</td>\n",
       "      <td>0</td>\n",
       "      <td>https://www.oreilly.com/radar/its-important-to...</td>\n",
       "    </tr>\n",
       "    <tr>\n",
       "      <th>1</th>\n",
       "      <td>Four short links: 5 November 2019</td>\n",
       "      <td>{'type': 'text/plain', 'language': None, 'base...</td>\n",
       "      <td>[{'rel': 'alternate', 'type': 'text/html', 'hr...</td>\n",
       "      <td>http://feedproxy.google.com/~r/oreilly/radar/a...</td>\n",
       "      <td>https://www.oreilly.com/radar/four-short-links...</td>\n",
       "      <td>Tue, 05 Nov 2019 05:01:13 +0000</td>\n",
       "      <td>(2019, 11, 5, 5, 1, 13, 1, 309, 0)</td>\n",
       "      <td>[{'name': 'Nat Torkington'}]</td>\n",
       "      <td>Nat Torkington</td>\n",
       "      <td>{'name': 'Nat Torkington'}</td>\n",
       "      <td>[{'term': 'Four Short Links', 'scheme': None, ...</td>\n",
       "      <td>https://www.oreilly.com/radar/?p=10644</td>\n",
       "      <td>False</td>\n",
       "      <td>&amp;#8220;Nearly All&amp;#8221; Counter-Strike Microt...</td>\n",
       "      <td>{'type': 'text/html', 'language': None, 'base'...</td>\n",
       "      <td>[{'type': 'text/html', 'language': None, 'base...</td>\n",
       "      <td>https://www.oreilly.com/radar/four-short-links...</td>\n",
       "      <td>0</td>\n",
       "      <td>https://www.oreilly.com/radar/four-short-links...</td>\n",
       "    </tr>\n",
       "    <tr>\n",
       "      <th>2</th>\n",
       "      <td>Four short links: 4 November 2019</td>\n",
       "      <td>{'type': 'text/plain', 'language': None, 'base...</td>\n",
       "      <td>[{'rel': 'alternate', 'type': 'text/html', 'hr...</td>\n",
       "      <td>http://feedproxy.google.com/~r/oreilly/radar/a...</td>\n",
       "      <td>https://www.oreilly.com/radar/four-short-links...</td>\n",
       "      <td>Mon, 04 Nov 2019 05:01:01 +0000</td>\n",
       "      <td>(2019, 11, 4, 5, 1, 1, 0, 308, 0)</td>\n",
       "      <td>[{'name': 'Nat Torkington'}]</td>\n",
       "      <td>Nat Torkington</td>\n",
       "      <td>{'name': 'Nat Torkington'}</td>\n",
       "      <td>[{'term': 'Four Short Links', 'scheme': None, ...</td>\n",
       "      <td>https://www.oreilly.com/radar/?p=10612</td>\n",
       "      <td>False</td>\n",
       "      <td>Beyond Bots and Trolls: Understanding Disinfor...</td>\n",
       "      <td>{'type': 'text/html', 'language': None, 'base'...</td>\n",
       "      <td>[{'type': 'text/html', 'language': None, 'base...</td>\n",
       "      <td>https://www.oreilly.com/radar/four-short-links...</td>\n",
       "      <td>0</td>\n",
       "      <td>https://www.oreilly.com/radar/four-short-links...</td>\n",
       "    </tr>\n",
       "    <tr>\n",
       "      <th>3</th>\n",
       "      <td>Quantum computing’s potential is still far off...</td>\n",
       "      <td>{'type': 'text/plain', 'language': None, 'base...</td>\n",
       "      <td>[{'rel': 'alternate', 'type': 'text/html', 'hr...</td>\n",
       "      <td>http://feedproxy.google.com/~r/oreilly/radar/a...</td>\n",
       "      <td>https://www.oreilly.com/radar/quantum-computin...</td>\n",
       "      <td>Fri, 01 Nov 2019 04:05:34 +0000</td>\n",
       "      <td>(2019, 11, 1, 4, 5, 34, 4, 305, 0)</td>\n",
       "      <td>[{'name': 'Mike Loukides'}]</td>\n",
       "      <td>Mike Loukides</td>\n",
       "      <td>{'name': 'Mike Loukides'}</td>\n",
       "      <td>[{'term': 'Innovation &amp; Disruption', 'scheme':...</td>\n",
       "      <td>https://www.oreilly.com/radar/?p=10154</td>\n",
       "      <td>False</td>\n",
       "      <td>One of the most exciting topics we’ve been fol...</td>\n",
       "      <td>{'type': 'text/html', 'language': None, 'base'...</td>\n",
       "      <td>[{'type': 'text/html', 'language': None, 'base...</td>\n",
       "      <td>https://www.oreilly.com/radar/quantum-computin...</td>\n",
       "      <td>0</td>\n",
       "      <td>https://www.oreilly.com/radar/quantum-computin...</td>\n",
       "    </tr>\n",
       "    <tr>\n",
       "      <th>4</th>\n",
       "      <td>Four short links: 1 November 2019</td>\n",
       "      <td>{'type': 'text/plain', 'language': None, 'base...</td>\n",
       "      <td>[{'rel': 'alternate', 'type': 'text/html', 'hr...</td>\n",
       "      <td>http://feedproxy.google.com/~r/oreilly/radar/a...</td>\n",
       "      <td>https://www.oreilly.com/radar/four-short-links...</td>\n",
       "      <td>Fri, 01 Nov 2019 04:01:53 +0000</td>\n",
       "      <td>(2019, 11, 1, 4, 1, 53, 4, 305, 0)</td>\n",
       "      <td>[{'name': 'Nat Torkington'}]</td>\n",
       "      <td>Nat Torkington</td>\n",
       "      <td>{'name': 'Nat Torkington'}</td>\n",
       "      <td>[{'term': 'Four Short Links', 'scheme': None, ...</td>\n",
       "      <td>https://www.oreilly.com/radar/?p=10586</td>\n",
       "      <td>False</td>\n",
       "      <td>Vortimo &amp;#8212; software that organizes inform...</td>\n",
       "      <td>{'type': 'text/html', 'language': None, 'base'...</td>\n",
       "      <td>[{'type': 'text/html', 'language': None, 'base...</td>\n",
       "      <td>https://www.oreilly.com/radar/four-short-links...</td>\n",
       "      <td>0</td>\n",
       "      <td>https://www.oreilly.com/radar/four-short-links...</td>\n",
       "    </tr>\n",
       "  </tbody>\n",
       "</table>\n",
       "</div>"
      ],
      "text/plain": [
       "                                               title  \\\n",
       "0  It’s important to cultivate your organization’...   \n",
       "1                  Four short links: 5 November 2019   \n",
       "2                  Four short links: 4 November 2019   \n",
       "3  Quantum computing’s potential is still far off...   \n",
       "4                  Four short links: 1 November 2019   \n",
       "\n",
       "                                        title_detail  \\\n",
       "0  {'type': 'text/plain', 'language': None, 'base...   \n",
       "1  {'type': 'text/plain', 'language': None, 'base...   \n",
       "2  {'type': 'text/plain', 'language': None, 'base...   \n",
       "3  {'type': 'text/plain', 'language': None, 'base...   \n",
       "4  {'type': 'text/plain', 'language': None, 'base...   \n",
       "\n",
       "                                               links  \\\n",
       "0  [{'rel': 'alternate', 'type': 'text/html', 'hr...   \n",
       "1  [{'rel': 'alternate', 'type': 'text/html', 'hr...   \n",
       "2  [{'rel': 'alternate', 'type': 'text/html', 'hr...   \n",
       "3  [{'rel': 'alternate', 'type': 'text/html', 'hr...   \n",
       "4  [{'rel': 'alternate', 'type': 'text/html', 'hr...   \n",
       "\n",
       "                                                link  \\\n",
       "0  http://feedproxy.google.com/~r/oreilly/radar/a...   \n",
       "1  http://feedproxy.google.com/~r/oreilly/radar/a...   \n",
       "2  http://feedproxy.google.com/~r/oreilly/radar/a...   \n",
       "3  http://feedproxy.google.com/~r/oreilly/radar/a...   \n",
       "4  http://feedproxy.google.com/~r/oreilly/radar/a...   \n",
       "\n",
       "                                            comments  \\\n",
       "0  https://www.oreilly.com/radar/its-important-to...   \n",
       "1  https://www.oreilly.com/radar/four-short-links...   \n",
       "2  https://www.oreilly.com/radar/four-short-links...   \n",
       "3  https://www.oreilly.com/radar/quantum-computin...   \n",
       "4  https://www.oreilly.com/radar/four-short-links...   \n",
       "\n",
       "                         published                    published_parsed  \\\n",
       "0  Tue, 05 Nov 2019 05:05:36 +0000  (2019, 11, 5, 5, 5, 36, 1, 309, 0)   \n",
       "1  Tue, 05 Nov 2019 05:01:13 +0000  (2019, 11, 5, 5, 1, 13, 1, 309, 0)   \n",
       "2  Mon, 04 Nov 2019 05:01:01 +0000   (2019, 11, 4, 5, 1, 1, 0, 308, 0)   \n",
       "3  Fri, 01 Nov 2019 04:05:34 +0000  (2019, 11, 1, 4, 5, 34, 4, 305, 0)   \n",
       "4  Fri, 01 Nov 2019 04:01:53 +0000  (2019, 11, 1, 4, 1, 53, 4, 305, 0)   \n",
       "\n",
       "                        authors          author               author_detail  \\\n",
       "0       [{'name': 'Jenn Webb'}]       Jenn Webb       {'name': 'Jenn Webb'}   \n",
       "1  [{'name': 'Nat Torkington'}]  Nat Torkington  {'name': 'Nat Torkington'}   \n",
       "2  [{'name': 'Nat Torkington'}]  Nat Torkington  {'name': 'Nat Torkington'}   \n",
       "3   [{'name': 'Mike Loukides'}]   Mike Loukides   {'name': 'Mike Loukides'}   \n",
       "4  [{'name': 'Nat Torkington'}]  Nat Torkington  {'name': 'Nat Torkington'}   \n",
       "\n",
       "                                                tags  \\\n",
       "0  [{'term': 'Future of the Firm', 'scheme': None...   \n",
       "1  [{'term': 'Four Short Links', 'scheme': None, ...   \n",
       "2  [{'term': 'Four Short Links', 'scheme': None, ...   \n",
       "3  [{'term': 'Innovation & Disruption', 'scheme':...   \n",
       "4  [{'term': 'Four Short Links', 'scheme': None, ...   \n",
       "\n",
       "                                       id  guidislink  \\\n",
       "0  https://www.oreilly.com/radar/?p=10231       False   \n",
       "1  https://www.oreilly.com/radar/?p=10644       False   \n",
       "2  https://www.oreilly.com/radar/?p=10612       False   \n",
       "3  https://www.oreilly.com/radar/?p=10154       False   \n",
       "4  https://www.oreilly.com/radar/?p=10586       False   \n",
       "\n",
       "                                             summary  \\\n",
       "0  In this interview from O&#8217;Reilly Foo Camp...   \n",
       "1  &#8220;Nearly All&#8221; Counter-Strike Microt...   \n",
       "2  Beyond Bots and Trolls: Understanding Disinfor...   \n",
       "3  One of the most exciting topics we’ve been fol...   \n",
       "4  Vortimo &#8212; software that organizes inform...   \n",
       "\n",
       "                                      summary_detail  \\\n",
       "0  {'type': 'text/html', 'language': None, 'base'...   \n",
       "1  {'type': 'text/html', 'language': None, 'base'...   \n",
       "2  {'type': 'text/html', 'language': None, 'base'...   \n",
       "3  {'type': 'text/html', 'language': None, 'base'...   \n",
       "4  {'type': 'text/html', 'language': None, 'base'...   \n",
       "\n",
       "                                             content  \\\n",
       "0  [{'type': 'text/html', 'language': None, 'base...   \n",
       "1  [{'type': 'text/html', 'language': None, 'base...   \n",
       "2  [{'type': 'text/html', 'language': None, 'base...   \n",
       "3  [{'type': 'text/html', 'language': None, 'base...   \n",
       "4  [{'type': 'text/html', 'language': None, 'base...   \n",
       "\n",
       "                                      wfw_commentrss slash_comments  \\\n",
       "0  https://www.oreilly.com/radar/its-important-to...              0   \n",
       "1  https://www.oreilly.com/radar/four-short-links...              0   \n",
       "2  https://www.oreilly.com/radar/four-short-links...              0   \n",
       "3  https://www.oreilly.com/radar/quantum-computin...              0   \n",
       "4  https://www.oreilly.com/radar/four-short-links...              0   \n",
       "\n",
       "                                 feedburner_origlink  \n",
       "0  https://www.oreilly.com/radar/its-important-to...  \n",
       "1  https://www.oreilly.com/radar/four-short-links...  \n",
       "2  https://www.oreilly.com/radar/four-short-links...  \n",
       "3  https://www.oreilly.com/radar/quantum-computin...  \n",
       "4  https://www.oreilly.com/radar/four-short-links...  "
      ]
     },
     "execution_count": 105,
     "metadata": {},
     "output_type": "execute_result"
    }
   ],
   "source": [
    "ds = pd.DataFrame(feed.entries)\n",
    "ds.head()"
   ]
  },
  {
   "cell_type": "markdown",
   "metadata": {},
   "source": [
    "### 10. Count the number of entries per author and sort them in descending order."
   ]
  },
  {
   "cell_type": "code",
   "execution_count": 108,
   "metadata": {
    "scrolled": true
   },
   "outputs": [
    {
     "data": {
      "text/plain": [
       "author\n",
       "Nat Torkington                              4\n",
       "Tony Jebara                                 1\n",
       "Theodore Summe                              1\n",
       "Sandeep Gupta and Joseph Paul Cohen         1\n",
       "Mike Loukides                               1\n",
       "Mike Liang                                  1\n",
       "Megan Kacholia                              1\n",
       "Mac Slocum                                  1\n",
       "Konstantinos Katsiapis and Anusha Ramesh    1\n",
       "Jenn Webb                                   1\n",
       "Jeff Dean                                   1\n",
       "Jared Duke and Sarah Sirajuddin             1\n",
       "Chris Lattner and Tatiana Shpeisman         1\n",
       "Anna Roth                                   1\n",
       "Ankur Narang                                1\n",
       "Name: title, dtype: int64"
      ]
     },
     "execution_count": 108,
     "metadata": {},
     "output_type": "execute_result"
    }
   ],
   "source": [
    "da = ds.groupby(['author']).count()\n",
    "#df = ds[['author', 'title']]\n",
    "da['title'].sort_values(ascending=False)"
   ]
  },
  {
   "cell_type": "markdown",
   "metadata": {},
   "source": [
    "### 11. Add a new column to the data frame that contains the length (number of characters) of each entry title. Return a data frame that contains the title, author, and title length of each entry in descending order (longest title length at the top)."
   ]
  },
  {
   "cell_type": "code",
   "execution_count": 136,
   "metadata": {},
   "outputs": [
    {
     "data": {
      "text/html": [
       "<div>\n",
       "<style scoped>\n",
       "    .dataframe tbody tr th:only-of-type {\n",
       "        vertical-align: middle;\n",
       "    }\n",
       "\n",
       "    .dataframe tbody tr th {\n",
       "        vertical-align: top;\n",
       "    }\n",
       "\n",
       "    .dataframe thead th {\n",
       "        text-align: right;\n",
       "    }\n",
       "</style>\n",
       "<table border=\"1\" class=\"dataframe\">\n",
       "  <thead>\n",
       "    <tr style=\"text-align: right;\">\n",
       "      <th></th>\n",
       "      <th>author</th>\n",
       "      <th>title</th>\n",
       "      <th>title length</th>\n",
       "    </tr>\n",
       "  </thead>\n",
       "  <tbody>\n",
       "    <tr>\n",
       "      <th>3</th>\n",
       "      <td>Mike Loukides</td>\n",
       "      <td>Quantum computing’s potential is still far off...</td>\n",
       "      <td>100</td>\n",
       "    </tr>\n",
       "    <tr>\n",
       "      <th>12</th>\n",
       "      <td>Mike Liang</td>\n",
       "      <td>TensorFlow Hub: The platform to share and disc...</td>\n",
       "      <td>83</td>\n",
       "    </tr>\n",
       "    <tr>\n",
       "      <th>6</th>\n",
       "      <td>Ankur Narang</td>\n",
       "      <td>Sticker recommendations and AI-driven innovati...</td>\n",
       "      <td>80</td>\n",
       "    </tr>\n",
       "    <tr>\n",
       "      <th>7</th>\n",
       "      <td>Anna Roth</td>\n",
       "      <td>“Human error”: How can we help people build mo...</td>\n",
       "      <td>75</td>\n",
       "    </tr>\n",
       "    <tr>\n",
       "      <th>0</th>\n",
       "      <td>Jenn Webb</td>\n",
       "      <td>It’s important to cultivate your organization’...</td>\n",
       "      <td>65</td>\n",
       "    </tr>\n",
       "    <tr>\n",
       "      <th>5</th>\n",
       "      <td>Mac Slocum</td>\n",
       "      <td>Highlights from TensorFlow World in Santa Clar...</td>\n",
       "      <td>64</td>\n",
       "    </tr>\n",
       "    <tr>\n",
       "      <th>9</th>\n",
       "      <td>Sandeep Gupta and Joseph Paul Cohen</td>\n",
       "      <td>TensorFlow.js: Bringing machine learning to Ja...</td>\n",
       "      <td>54</td>\n",
       "    </tr>\n",
       "    <tr>\n",
       "      <th>8</th>\n",
       "      <td>Tony Jebara</td>\n",
       "      <td>Personalization of Spotify Home and TensorFlow</td>\n",
       "      <td>46</td>\n",
       "    </tr>\n",
       "    <tr>\n",
       "      <th>13</th>\n",
       "      <td>Jared Duke and Sarah Sirajuddin</td>\n",
       "      <td>TensorFlow Lite: ML for mobile and IoT devices</td>\n",
       "      <td>46</td>\n",
       "    </tr>\n",
       "    <tr>\n",
       "      <th>10</th>\n",
       "      <td>Konstantinos Katsiapis and Anusha Ramesh</td>\n",
       "      <td>TFX: An end-to-end ML platform for everyone</td>\n",
       "      <td>43</td>\n",
       "    </tr>\n",
       "    <tr>\n",
       "      <th>17</th>\n",
       "      <td>Jeff Dean</td>\n",
       "      <td>TensorFlow World 2019 opening keynote</td>\n",
       "      <td>37</td>\n",
       "    </tr>\n",
       "    <tr>\n",
       "      <th>4</th>\n",
       "      <td>Nat Torkington</td>\n",
       "      <td>Four short links: 1 November 2019</td>\n",
       "      <td>33</td>\n",
       "    </tr>\n",
       "    <tr>\n",
       "      <th>1</th>\n",
       "      <td>Nat Torkington</td>\n",
       "      <td>Four short links: 5 November 2019</td>\n",
       "      <td>33</td>\n",
       "    </tr>\n",
       "    <tr>\n",
       "      <th>2</th>\n",
       "      <td>Nat Torkington</td>\n",
       "      <td>Four short links: 4 November 2019</td>\n",
       "      <td>33</td>\n",
       "    </tr>\n",
       "    <tr>\n",
       "      <th>14</th>\n",
       "      <td>Nat Torkington</td>\n",
       "      <td>Four short links: 31 October 2019</td>\n",
       "      <td>33</td>\n",
       "    </tr>\n",
       "    <tr>\n",
       "      <th>15</th>\n",
       "      <td>Theodore Summe</td>\n",
       "      <td>Accelerating ML at Twitter</td>\n",
       "      <td>26</td>\n",
       "    </tr>\n",
       "    <tr>\n",
       "      <th>16</th>\n",
       "      <td>Megan Kacholia</td>\n",
       "      <td>The latest from TensorFlow</td>\n",
       "      <td>26</td>\n",
       "    </tr>\n",
       "    <tr>\n",
       "      <th>11</th>\n",
       "      <td>Chris Lattner and Tatiana Shpeisman</td>\n",
       "      <td>MLIR: Accelerating AI</td>\n",
       "      <td>21</td>\n",
       "    </tr>\n",
       "  </tbody>\n",
       "</table>\n",
       "</div>"
      ],
      "text/plain": [
       "                                      author  \\\n",
       "3                              Mike Loukides   \n",
       "12                                Mike Liang   \n",
       "6                               Ankur Narang   \n",
       "7                                  Anna Roth   \n",
       "0                                  Jenn Webb   \n",
       "5                                 Mac Slocum   \n",
       "9        Sandeep Gupta and Joseph Paul Cohen   \n",
       "8                                Tony Jebara   \n",
       "13           Jared Duke and Sarah Sirajuddin   \n",
       "10  Konstantinos Katsiapis and Anusha Ramesh   \n",
       "17                                 Jeff Dean   \n",
       "4                             Nat Torkington   \n",
       "1                             Nat Torkington   \n",
       "2                             Nat Torkington   \n",
       "14                            Nat Torkington   \n",
       "15                            Theodore Summe   \n",
       "16                            Megan Kacholia   \n",
       "11       Chris Lattner and Tatiana Shpeisman   \n",
       "\n",
       "                                                title  title length  \n",
       "3   Quantum computing’s potential is still far off...           100  \n",
       "12  TensorFlow Hub: The platform to share and disc...            83  \n",
       "6   Sticker recommendations and AI-driven innovati...            80  \n",
       "7   “Human error”: How can we help people build mo...            75  \n",
       "0   It’s important to cultivate your organization’...            65  \n",
       "5   Highlights from TensorFlow World in Santa Clar...            64  \n",
       "9   TensorFlow.js: Bringing machine learning to Ja...            54  \n",
       "8      Personalization of Spotify Home and TensorFlow            46  \n",
       "13     TensorFlow Lite: ML for mobile and IoT devices            46  \n",
       "10        TFX: An end-to-end ML platform for everyone            43  \n",
       "17              TensorFlow World 2019 opening keynote            37  \n",
       "4                   Four short links: 1 November 2019            33  \n",
       "1                   Four short links: 5 November 2019            33  \n",
       "2                   Four short links: 4 November 2019            33  \n",
       "14                  Four short links: 31 October 2019            33  \n",
       "15                         Accelerating ML at Twitter            26  \n",
       "16                         The latest from TensorFlow            26  \n",
       "11                              MLIR: Accelerating AI            21  "
      ]
     },
     "execution_count": 136,
     "metadata": {},
     "output_type": "execute_result"
    }
   ],
   "source": [
    "df = ds[['author', 'title']]\n",
    "dc = df.copy()\n",
    "tit_len = [len(t) for t in ds['title']]\n",
    "dc['title length'] = tit_len\n",
    "dc.sort_values(['title length'], ascending=False)\n"
   ]
  },
  {
   "cell_type": "markdown",
   "metadata": {},
   "source": [
    "### 12. Create a list of entry titles whose summary includes the phrase \"machine learning.\""
   ]
  },
  {
   "cell_type": "code",
   "execution_count": 141,
   "metadata": {},
   "outputs": [
    {
     "data": {
      "text/html": [
       "<div>\n",
       "<style scoped>\n",
       "    .dataframe tbody tr th:only-of-type {\n",
       "        vertical-align: middle;\n",
       "    }\n",
       "\n",
       "    .dataframe tbody tr th {\n",
       "        vertical-align: top;\n",
       "    }\n",
       "\n",
       "    .dataframe thead th {\n",
       "        text-align: right;\n",
       "    }\n",
       "</style>\n",
       "<table border=\"1\" class=\"dataframe\">\n",
       "  <thead>\n",
       "    <tr style=\"text-align: right;\">\n",
       "      <th></th>\n",
       "      <th>title</th>\n",
       "      <th>summary</th>\n",
       "    </tr>\n",
       "  </thead>\n",
       "  <tbody>\n",
       "    <tr>\n",
       "      <th>5</th>\n",
       "      <td>Highlights from TensorFlow World in Santa Clar...</td>\n",
       "      <td>People from across the TensorFlow community ca...</td>\n",
       "    </tr>\n",
       "  </tbody>\n",
       "</table>\n",
       "</div>"
      ],
      "text/plain": [
       "                                               title  \\\n",
       "5  Highlights from TensorFlow World in Santa Clar...   \n",
       "\n",
       "                                             summary  \n",
       "5  People from across the TensorFlow community ca...  "
      ]
     },
     "execution_count": 141,
     "metadata": {},
     "output_type": "execute_result"
    }
   ],
   "source": [
    "new_ds = ds[['title', 'summary']].copy()\n",
    "new_ds[new_ds['summary'].str.contains('machine learning')]\n",
    "# new_ds[filter(lambda x: 'machine learning' in x, new_ds['summary'])]\n"
   ]
  },
  {
   "cell_type": "code",
   "execution_count": null,
   "metadata": {},
   "outputs": [],
   "source": []
  }
 ],
 "metadata": {
  "kernelspec": {
   "display_name": "Python 3",
   "language": "python",
   "name": "python3"
  },
  "language_info": {
   "codemirror_mode": {
    "name": "ipython",
    "version": 3
   },
   "file_extension": ".py",
   "mimetype": "text/x-python",
   "name": "python",
   "nbconvert_exporter": "python",
   "pygments_lexer": "ipython3",
   "version": "3.7.4"
  }
 },
 "nbformat": 4,
 "nbformat_minor": 2
}
